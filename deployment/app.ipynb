{
 "cells": [
  {
   "cell_type": "code",
   "execution_count": 1,
   "metadata": {
    "executionInfo": {
     "elapsed": 39,
     "status": "ok",
     "timestamp": 1739979818539,
     "user": {
      "displayName": "Nurul Bashar",
      "userId": "14724973322652470704"
     },
     "user_tz": -360
    },
    "id": "5El_s6OMn-i-"
   },
   "outputs": [],
   "source": [
    "#|deafult_exp app"
   ]
  },
  {
   "cell_type": "markdown",
   "metadata": {
    "id": "FbS1vWVYoKkm"
   },
   "source": [
    "# Astro Recognizer"
   ]
  },
  {
   "cell_type": "code",
   "execution_count": null,
   "metadata": {
    "colab": {
     "base_uri": "https://localhost:8080/"
    },
    "executionInfo": {
     "elapsed": 15971,
     "status": "ok",
     "timestamp": 1739979835637,
     "user": {
      "displayName": "Nurul Bashar",
      "userId": "14724973322652470704"
     },
     "user_tz": -360
    },
    "id": "b-DdYl09oObn",
    "outputId": "62585341-ad1f-45bb-d930-51268e566bc6"
   },
   "outputs": [
    {
     "name": "stderr",
     "output_type": "stream",
     "text": [
      "'source' is not recognized as an internal or external command,\n",
      "operable program or batch file.\n",
      "  error: subprocess-exited-with-error\n",
      "  \n",
      "  × pip subprocess to install build dependencies did not run successfully.\n",
      "  │ exit code: 1\n",
      "  ╰─> [92 lines of output]\n",
      "      Ignoring numpy: markers 'python_version < \"3.9\"' don't match your environment\n",
      "      Collecting setuptools\n",
      "        Using cached setuptools-75.8.0-py3-none-any.whl.metadata (6.7 kB)\n",
      "      Collecting cython<3.0,>=0.25\n",
      "        Using cached Cython-0.29.37-py2.py3-none-any.whl.metadata (3.1 kB)\n",
      "      Collecting cymem<2.1.0,>=2.0.2\n",
      "        Using cached cymem-2.0.11-cp313-cp313-win_amd64.whl.metadata (8.8 kB)\n",
      "      Collecting preshed<3.1.0,>=3.0.2\n",
      "        Using cached preshed-3.0.9.tar.gz (14 kB)\n",
      "        Installing build dependencies: started\n",
      "        Installing build dependencies: finished with status 'done'\n",
      "        Getting requirements to build wheel: started\n",
      "        Getting requirements to build wheel: finished with status 'done'\n",
      "        Preparing metadata (pyproject.toml): started\n",
      "        Preparing metadata (pyproject.toml): finished with status 'done'\n",
      "      Collecting murmurhash<1.1.0,>=0.28.0\n",
      "        Using cached murmurhash-1.0.12-cp313-cp313-win_amd64.whl.metadata (2.2 kB)\n",
      "      Collecting thinc<8.4.0,>=8.3.0\n",
      "        Using cached thinc-8.3.2.tar.gz (193 kB)\n",
      "        Installing build dependencies: started\n",
      "        Installing build dependencies: finished with status 'error'\n",
      "        error: subprocess-exited-with-error\n",
      "      \n",
      "        Ã— pip subprocess to install build dependencies did not run successfully.\n",
      "        â”‚ exit code: 1\n",
      "        â•°â”€> [56 lines of output]\n",
      "            Ignoring numpy: markers 'python_version < \"3.9\"' don't match your environment\n",
      "            Collecting setuptools\n",
      "              Using cached setuptools-75.8.0-py3-none-any.whl.metadata (6.7 kB)\n",
      "            Collecting cython<3.0,>=0.25\n",
      "              Using cached Cython-0.29.37-py2.py3-none-any.whl.metadata (3.1 kB)\n",
      "            Collecting murmurhash<1.1.0,>=1.0.2\n",
      "              Using cached murmurhash-1.0.12-cp313-cp313-win_amd64.whl.metadata (2.2 kB)\n",
      "            Collecting cymem<2.1.0,>=2.0.2\n",
      "              Using cached cymem-2.0.11-cp313-cp313-win_amd64.whl.metadata (8.8 kB)\n",
      "            Collecting preshed<3.1.0,>=3.0.2\n",
      "              Using cached preshed-3.0.9.tar.gz (14 kB)\n",
      "              Installing build dependencies: started\n",
      "              Installing build dependencies: finished with status 'done'\n",
      "              Getting requirements to build wheel: started\n",
      "              Getting requirements to build wheel: finished with status 'done'\n",
      "              Preparing metadata (pyproject.toml): started\n",
      "              Preparing metadata (pyproject.toml): finished with status 'done'\n",
      "            Collecting blis<1.1.0,>=1.0.0\n",
      "              Using cached blis-1.0.2-cp313-cp313-win_amd64.whl.metadata (7.8 kB)\n",
      "            Collecting numpy<2.1.0,>=2.0.0\n",
      "              Using cached numpy-2.0.2.tar.gz (18.9 MB)\n",
      "              Installing build dependencies: started\n",
      "              Installing build dependencies: finished with status 'done'\n",
      "              Getting requirements to build wheel: started\n",
      "              Getting requirements to build wheel: finished with status 'done'\n",
      "              Installing backend dependencies: started\n",
      "              Installing backend dependencies: finished with status 'done'\n",
      "              Preparing metadata (pyproject.toml): started\n",
      "              Preparing metadata (pyproject.toml): finished with status 'error'\n",
      "              error: subprocess-exited-with-error\n",
      "      \n",
      "              Ãƒâ€” Preparing metadata (pyproject.toml) did not run successfully.\n",
      "              Ã¢â€\\x9dâ€š exit code: 1\n",
      "              Ã¢â€¢Â°Ã¢â€\\x9dâ‚¬> [12 lines of output]\n",
      "                  + d:\\Hugging Face\\astro-recognizer\\myenv\\Scripts\\python.exe C:\\Users\\SHAEK\\AppData\\Local\\Temp\\pip-install-w86xifua\\numpy_0d1e52696c0e4d9aa63206ea1c199317\\vendored-meson\\meson\\meson.py setup C:\\Users\\SHAEK\\AppData\\Local\\Temp\\pip-install-w86xifua\\numpy_0d1e52696c0e4d9aa63206ea1c199317 C:\\Users\\SHAEK\\AppData\\Local\\Temp\\pip-install-w86xifua\\numpy_0d1e52696c0e4d9aa63206ea1c199317\\.mesonpy-zyvf3ozj -Dbuildtype=release -Db_ndebug=if-release -Db_vscrt=md --native-file=C:\\Users\\SHAEK\\AppData\\Local\\Temp\\pip-install-w86xifua\\numpy_0d1e52696c0e4d9aa63206ea1c199317\\.mesonpy-zyvf3ozj\\meson-python-native-file.ini\n",
      "                  The Meson build system\n",
      "                  Version: 1.4.99\n",
      "                  Source dir: C:\\Users\\SHAEK\\AppData\\Local\\Temp\\pip-install-w86xifua\\numpy_0d1e52696c0e4d9aa63206ea1c199317\n",
      "                  Build dir: C:\\Users\\SHAEK\\AppData\\Local\\Temp\\pip-install-w86xifua\\numpy_0d1e52696c0e4d9aa63206ea1c199317\\.mesonpy-zyvf3ozj\n",
      "                  Build type: native build\n",
      "                  Project name: NumPy\n",
      "                  Project version: 2.0.2\n",
      "      \n",
      "                  ..\\meson.build:1:0: ERROR: Compiler cl cannot compile programs.\n",
      "      \n",
      "                  A full log can be found at C:\\Users\\SHAEK\\AppData\\Local\\Temp\\pip-install-w86xifua\\numpy_0d1e52696c0e4d9aa63206ea1c199317\\.mesonpy-zyvf3ozj\\meson-logs\\meson-log.txt\n",
      "                  [end of output]\n",
      "      \n",
      "              note: This error originates from a subprocess, and is likely not a problem with pip.\n",
      "            error: metadata-generation-failed\n",
      "      \n",
      "            Ãƒâ€” Encountered error while generating package metadata.\n",
      "            Ã¢â€¢Â°Ã¢â€\\x9dâ‚¬> See above for output.\n",
      "      \n",
      "            note: This is an issue with the package mentioned above, not pip.\n",
      "            hint: See above for details.\n",
      "            [end of output]\n",
      "      \n",
      "        note: This error originates from a subprocess, and is likely not a problem with pip.\n",
      "      error: subprocess-exited-with-error\n",
      "      \n",
      "      Ã— pip subprocess to install build dependencies did not run successfully.\n",
      "      â”‚ exit code: 1\n",
      "      â•°â”€> See above for output.\n",
      "      \n",
      "      note: This error originates from a subprocess, and is likely not a problem with pip.\n",
      "      [end of output]\n",
      "  \n",
      "  note: This error originates from a subprocess, and is likely not a problem with pip.\n",
      "error: subprocess-exited-with-error\n",
      "\n",
      "× pip subprocess to install build dependencies did not run successfully.\n",
      "│ exit code: 1\n",
      "╰─> See above for output.\n",
      "\n",
      "note: This error originates from a subprocess, and is likely not a problem with pip.\n"
     ]
    }
   ],
   "source": [
    "!pip install -Uqq fastai gradio nbdev"
   ]
  },
  {
   "cell_type": "code",
   "execution_count": null,
   "metadata": {},
   "outputs": [],
   "source": [
    "%pip install setuptools cython cymem preshed murmurhash thinc"
   ]
  },
  {
   "cell_type": "code",
   "execution_count": null,
   "metadata": {
    "executionInfo": {
     "elapsed": 20615,
     "status": "ok",
     "timestamp": 1739979890889,
     "user": {
      "displayName": "Nurul Bashar",
      "userId": "14724973322652470704"
     },
     "user_tz": -360
    },
    "id": "bl6KLy1dq08B"
   },
   "outputs": [],
   "source": [
    "from fastai.vision.all import *"
   ]
  },
  {
   "cell_type": "code",
   "execution_count": 6,
   "metadata": {
    "executionInfo": {
     "elapsed": 2500,
     "status": "ok",
     "timestamp": 1739979893390,
     "user": {
      "displayName": "Nurul Bashar",
      "userId": "14724973322652470704"
     },
     "user_tz": -360
    },
    "id": "fuaFvyXOoWd6"
   },
   "outputs": [],
   "source": [
    "#!export\n",
    "from fastai.vision.all import load_learner\n",
    "import gradio as gr"
   ]
  },
  {
   "cell_type": "code",
   "execution_count": 7,
   "metadata": {
    "executionInfo": {
     "elapsed": 3753,
     "status": "ok",
     "timestamp": 1739979897145,
     "user": {
      "displayName": "Nurul Bashar",
      "userId": "14724973322652470704"
     },
     "user_tz": -360
    },
    "id": "MwXdyUXVouGF"
   },
   "outputs": [],
   "source": [
    "#!export\n",
    "model = load_learner(f'models/astronomy-recognizer-v7.pkl')"
   ]
  },
  {
   "cell_type": "code",
   "execution_count": 8,
   "metadata": {
    "executionInfo": {
     "elapsed": 4,
     "status": "ok",
     "timestamp": 1739979897150,
     "user": {
      "displayName": "Nurul Bashar",
      "userId": "14724973322652470704"
     },
     "user_tz": -360
    },
    "id": "p1HeYDHTq9DL"
   },
   "outputs": [],
   "source": [
    "#!export\n",
    "astronomy_labels = (\n",
    "'Andromeda Galaxy',\n",
    " 'Black Holes',\n",
    " 'Crab Nebula',\n",
    " 'Eagle Nebula',\n",
    " 'Earth Planet',\n",
    " 'Exoplanets',\n",
    " 'Jupiter Planet',\n",
    " 'Mars Planet',\n",
    " 'Mercury Planet',\n",
    " 'Milky Way Galaxy',\n",
    " 'Neptune Planet',\n",
    " 'Orion Nebula',\n",
    " 'Saturn Planet',\n",
    " 'Supernova Remnants',\n",
    " 'Triangulum Galaxy',\n",
    " 'Uranus Planet',\n",
    " 'Venus Planet'\n",
    ")\n",
    "\n",
    "def recognize_image(image):\n",
    "  pred, idx, probs = model.predict(image)\n",
    "  return dict(zip(astronomy_labels, map(float, probs)))"
   ]
  },
  {
   "cell_type": "code",
   "execution_count": 9,
   "metadata": {
    "colab": {
     "base_uri": "https://localhost:8080/",
     "height": 127
    },
    "executionInfo": {
     "elapsed": 511,
     "status": "ok",
     "timestamp": 1739979897662,
     "user": {
      "displayName": "Nurul Bashar",
      "userId": "14724973322652470704"
     },
     "user_tz": -360
    },
    "id": "1zD7LvJIrZ5Z",
    "outputId": "f9a8bcb3-26ae-4fea-b07e-5f6327573f65"
   },
   "outputs": [
    {
     "data": {
      "image/jpeg": "[encoded data removed]",
      "image/png": "[encoded data removed]",
      "text/plain": [
       "PILImage mode=RGB size=192x110"
      ]
     },
     "execution_count": 9,
     "metadata": {},
     "output_type": "execute_result"
    }
   ],
   "source": [
    "img = PILImage.create(f'test_images/andromeda_test.jpg')\n",
    "img.thumbnail((192,192))\n",
    "img"
   ]
  },
  {
   "cell_type": "code",
   "execution_count": 10,
   "metadata": {
    "colab": {
     "base_uri": "https://localhost:8080/",
     "height": 312
    },
    "executionInfo": {
     "elapsed": 653,
     "status": "ok",
     "timestamp": 1739979898324,
     "user": {
      "displayName": "Nurul Bashar",
      "userId": "14724973322652470704"
     },
     "user_tz": -360
    },
    "id": "Geb8l4Ymrpdn",
    "outputId": "f774fb17-9b51-4258-bc48-112eb165a726"
   },
   "outputs": [
    {
     "data": {
      "text/html": [
       "\n",
       "<style>\n",
       "    /* Turns off some styling */\n",
       "    progress {\n",
       "        /* gets rid of default border in Firefox and Opera. */\n",
       "        border: none;\n",
       "        /* Needs to be in here for Safari polyfill so background images work as expected. */\n",
       "        background-size: auto;\n",
       "    }\n",
       "    progress:not([value]), progress:not([value])::-webkit-progress-bar {\n",
       "        background: repeating-linear-gradient(45deg, #7e7e7e, #7e7e7e 10px, #5c5c5c 10px, #5c5c5c 20px);\n",
       "    }\n",
       "    .progress-bar-interrupted, .progress-bar-interrupted::-webkit-progress-bar {\n",
       "        background: #F44336;\n",
       "    }\n",
       "</style>\n"
      ],
      "text/plain": [
       "<IPython.core.display.HTML object>"
      ]
     },
     "metadata": {},
     "output_type": "display_data"
    },
    {
     "data": {
      "text/html": [],
      "text/plain": [
       "<IPython.core.display.HTML object>"
      ]
     },
     "metadata": {},
     "output_type": "display_data"
    },
    {
     "data": {
      "text/plain": [
       "{'Andromeda Galaxy': 0.9479253888130188,\n",
       " 'Black Holes': 0.0001990620803553611,\n",
       " 'Crab Nebula': 9.83418772193545e-07,\n",
       " 'Eagle Nebula': 5.978899366709811e-07,\n",
       " 'Earth Planet': 2.1997200747136958e-05,\n",
       " 'Exoplanets': 5.672562565450789e-06,\n",
       " 'Jupiter Planet': 0.0003686987329274416,\n",
       " 'Mars Planet': 1.0630406421796579e-07,\n",
       " 'Mercury Planet': 1.052552875080437e-06,\n",
       " 'Milky Way Galaxy': 0.05112340301275253,\n",
       " 'Neptune Planet': 4.1151301957143005e-06,\n",
       " 'Orion Nebula': 2.3083291011971596e-07,\n",
       " 'Saturn Planet': 0.00031577234040014446,\n",
       " 'Supernova Remnants': 1.169688857771689e-06,\n",
       " 'Triangulum Galaxy': 3.090002792305313e-05,\n",
       " 'Uranus Planet': 4.159262232406036e-07,\n",
       " 'Venus Planet': 4.6034358547331067e-07}"
      ]
     },
     "execution_count": 10,
     "metadata": {},
     "output_type": "execute_result"
    }
   ],
   "source": [
    "recognize_image(img)"
   ]
  },
  {
   "cell_type": "code",
   "execution_count": 11,
   "metadata": {
    "colab": {
     "base_uri": "https://localhost:8080/"
    },
    "executionInfo": {
     "elapsed": 3113,
     "status": "ok",
     "timestamp": 1739979901446,
     "user": {
      "displayName": "Nurul Bashar",
      "userId": "14724973322652470704"
     },
     "user_tz": -360
    },
    "id": "KqYHvvAYrsZo",
    "outputId": "fc344b50-fb8e-44af-cd70-542bf3efdda3"
   },
   "outputs": [
    {
     "name": "stdout",
     "output_type": "stream",
     "text": [
      "Running Gradio in a Colab notebook requires sharing enabled. Automatically setting `share=True` (you can turn this off by setting `share=False` in `launch()` explicitly).\n",
      "\n",
      "Colab notebook detected. To show errors in colab notebook, set debug=True in launch()\n",
      "* Running on public URL: https://1855e45bc17d872edc.gradio.live\n",
      "\n",
      "This share link expires in 72 hours. For free permanent hosting and GPU upgrades, run `gradio deploy` from the terminal in the working directory to deploy to Hugging Face Spaces (https://huggingface.co/spaces)\n"
     ]
    },
    {
     "data": {
      "text/plain": []
     },
     "execution_count": 11,
     "metadata": {},
     "output_type": "execute_result"
    }
   ],
   "source": [
    "#!export\n",
    "image = gr.Image()\n",
    "label = gr.Label()\n",
    "examples = [\n",
    "    'test_images/andromeda_test.jpg',\n",
    "    'test_images/blackhole_test.jpg',\n",
    "    'test_images/milkyway_test.webp',\n",
    "    'test_images/venus_test.webp'\n",
    "    ]\n",
    "\n",
    "iface = gr.Interface(fn=recognize_image, inputs=image, outputs=label, examples=examples)\n",
    "iface.launch(inline=False)"
   ]
  },
  {
   "cell_type": "markdown",
   "metadata": {
    "id": "SOcqPRSlsJrt"
   },
   "source": [
    "# Notebook to Python Script Export"
   ]
  },
  {
   "cell_type": "code",
   "execution_count": null,
   "metadata": {
    "id": "igAkJCvOsObf"
   },
   "outputs": [],
   "source": [
    "from nbdev.export import notebook2script"
   ]
  },
  {
   "cell_type": "code",
   "execution_count": null,
   "metadata": {
    "id": "hkHcM9MLsQVY"
   },
   "outputs": [],
   "source": [
    "notebook2script('app.ipynb')"
   ]
  }
 ],
 "metadata": {
  "accelerator": "GPU",
  "colab": {
   "authorship_tag": "ABX9TyNCaz+e6Jc5wN/noe4mPgPY",
   "gpuType": "T4",
   "provenance": []
  },
  "kernelspec": {
   "display_name": "myenv",
   "language": "python",
   "name": "python3"
  },
  "language_info": {
   "codemirror_mode": {
    "name": "ipython",
    "version": 3
   },
   "file_extension": ".py",
   "mimetype": "text/x-python",
   "name": "python",
   "nbconvert_exporter": "python",
   "pygments_lexer": "ipython3",
   "version": "3.13.1"
  }
 },
 "nbformat": 4,
 "nbformat_minor": 0
}
